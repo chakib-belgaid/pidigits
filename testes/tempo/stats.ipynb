#%% 
import pandas as pd
import numpy as np
import plotly.plotly as py
import cufflinks as cf 
import matplotlib.pyplot as plt
from pivottablejs import pivot_ui

class Index() :
    ALGORITHME = 0
    LANGUAGE = 1
    COMPILEFLAG = 2
    PARAM = 3
    INNERLOOP = 4 
#df = pd.DataFrame()
columns=['language','compilflag','param','innerloop','value']

l= []
files= !(ls *power) # file format : 'algo>.<language>.<compilflag>.<param>.<innerloop>.power
i = 0 
for file in files : 
    f=!(cat $file)
    infos = file.split('.')

    infos[Index.INNERLOOP] = int(infos[Index.INNERLOOP])
    for line in f :
        row = infos[1:-1]
        row.append(float(line))
        l.append(tuple(row))
    
df = pd.DataFrame(l,columns=columns)

def plot(data):
    table = [{
        'x':data.index,
        'y':data[col],
        'name':col[0]+':'+col[1]
        }  for col in data.columns  ]
    return py.iplot(table,filename='simple-test')
     
#%% 
#x=df
x=df[df.compilflag == 'latest']
x= x.groupby(['language','compilflag','innerloop']).mean()
x
data=x.unstack(level=0)
data=data.value
py.iplot([{
    'x':data.index.levels[1],
    'y':data[col] ,
    'name':col
    } for col in data.columns ],filename='simple-test')
#x


#%% 
x=df[df.language=='java'  ]
x= x.groupby(['language','compilflag','innerloop']).mean()
x
x.unstack(level=0).plot()
#%% 

x=df[df.language == 'java']
x
describe()
x.groupby(['innerloop']).mean()
py.iplot([{  'x': [i for i in range(10) ],
    'name':item,
    'y':x[x.innerloop==item].value
    } for item in x.innerloop.drop_duplicates()],filename='simple-test')
#%%
x= df.groupby(['language','compilflag','innerloop']).mean()
x=x.drop(['java'])
data=x.unstack(level=[0,1])
data=data.value
data

plot(data)
tan= data.copy()
for i in tan.index : 
    try : 
         tan.loc[i] = (tan.loc[i]-tan.loc[i/2]) / (i-i/2) 
    except : 
         tan.loc[i]= tan.loc[i].apply(lambda x: 0) 
plot(tan)



#[col(0)+':'+col(1) for col in columns]
