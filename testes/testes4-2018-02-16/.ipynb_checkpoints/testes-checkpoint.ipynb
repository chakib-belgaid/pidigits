{
 "cells": [
  {
   "cell_type": "code",
   "execution_count": 3,
   "metadata": {},
   "outputs": [],
   "source": [
    "import pandas as pd\n",
    "import numpy as np\n",
    "import plotly.plotly as py\n",
    "import cufflinks as cf \n",
    "import matplotlib.pyplot as plt\n",
    "from pivottablejs import pivot_ui\n",
    "\n",
    "class Index() :\n",
    "    ALGORITHME = 0\n",
    "    LANGUAGE = 1\n",
    "    COMPILEFLAG = 2\n",
    "    PARAM = 3\n",
    "    INNERLOOP = 4 \n",
    "#df = pd.DataFrame()\n",
    "columns=['language','compilflag','param','innerloop','value']\n",
    "\n",
    "l= []\n",
    "files= !(ls *power) # file format : 'algo>.<language>.<compilflag>.<param>.<innerloop>.power\n",
    "i = 0 \n",
    "for file in files : \n",
    "    f=!(cat $file)\n",
    "    infos = file.split('.')\n",
    "\n",
    "    infos[Index.INNERLOOP] = int(infos[Index.INNERLOOP])\n",
    "    for line in f :\n",
    "        row = infos[1:-1]\n",
    "        \n",
    "          \n",
    "        row.append(float(line))\n",
    "        l.append(tuple(row))\n",
    "    \n",
    "df = pd.DataFrame(l,columns=columns)"
   ]
  },
  {
   "cell_type": "code",
   "execution_count": 7,
   "metadata": {},
   "outputs": [
    {
     "data": {
      "text/html": [
       "<iframe id=\"igraph\" scrolling=\"no\" style=\"border:none;\" seamless=\"seamless\" src=\"https://plot.ly/~chakibmed/5.embed\" height=\"525px\" width=\"100%\"></iframe>"
      ],
      "text/plain": [
       "<plotly.tools.PlotlyDisplay object>"
      ]
     },
     "execution_count": 7,
     "metadata": {},
     "output_type": "execute_result"
    }
   ],
   "source": [
    "x=df[df.compilflag == 'latest']\n",
    "x= x.groupby(['language','compilflag','innerloop']).mean()\n",
    "data=x.unstack(level=0)\n",
    "data=data.value\n",
    "py.iplot([{\n",
    "    'x':data.index.levels[1],\n",
    "    'y':data[col] ,\n",
    "    'name':col\n",
    "    } for col in data.columns ],filename='simple-test')"
   ]
  },
  {
   "cell_type": "code",
   "execution_count": 6,
   "metadata": {},
   "outputs": [
    {
     "data": {
      "text/html": [
       "<div>\n",
       "<style scoped>\n",
       "    .dataframe tbody tr th:only-of-type {\n",
       "        vertical-align: middle;\n",
       "    }\n",
       "\n",
       "    .dataframe tbody tr th {\n",
       "        vertical-align: top;\n",
       "    }\n",
       "\n",
       "    .dataframe thead th {\n",
       "        text-align: right;\n",
       "    }\n",
       "</style>\n",
       "<table border=\"1\" class=\"dataframe\">\n",
       "  <thead>\n",
       "    <tr style=\"text-align: right;\">\n",
       "      <th></th>\n",
       "      <th>language</th>\n",
       "      <th>c</th>\n",
       "      <th>cpp</th>\n",
       "      <th>go</th>\n",
       "      <th>java</th>\n",
       "      <th>python</th>\n",
       "      <th>rust</th>\n",
       "    </tr>\n",
       "    <tr>\n",
       "      <th>compilflag</th>\n",
       "      <th>innerloop</th>\n",
       "      <th></th>\n",
       "      <th></th>\n",
       "      <th></th>\n",
       "      <th></th>\n",
       "      <th></th>\n",
       "      <th></th>\n",
       "    </tr>\n",
       "  </thead>\n",
       "  <tbody>\n",
       "    <tr>\n",
       "      <th rowspan=\"4\" valign=\"top\">latest</th>\n",
       "      <th>1</th>\n",
       "      <td>0.00</td>\n",
       "      <td>3021.648</td>\n",
       "      <td>7678.031</td>\n",
       "      <td>140047.7</td>\n",
       "      <td>23923.38</td>\n",
       "      <td>0.00</td>\n",
       "    </tr>\n",
       "    <tr>\n",
       "      <th>2</th>\n",
       "      <td>23307.94</td>\n",
       "      <td>30762.700</td>\n",
       "      <td>37684.740</td>\n",
       "      <td>141112.6</td>\n",
       "      <td>74581.94</td>\n",
       "      <td>24470.73</td>\n",
       "    </tr>\n",
       "    <tr>\n",
       "      <th>4</th>\n",
       "      <td>71944.96</td>\n",
       "      <td>87525.940</td>\n",
       "      <td>105754.600</td>\n",
       "      <td>140419.7</td>\n",
       "      <td>176235.80</td>\n",
       "      <td>70273.99</td>\n",
       "    </tr>\n",
       "    <tr>\n",
       "      <th>8</th>\n",
       "      <td>167957.90</td>\n",
       "      <td>200338.800</td>\n",
       "      <td>238679.200</td>\n",
       "      <td>140631.5</td>\n",
       "      <td>375423.90</td>\n",
       "      <td>169228.30</td>\n",
       "    </tr>\n",
       "  </tbody>\n",
       "</table>\n",
       "</div>"
      ],
      "text/plain": [
       "language                      c         cpp          go      java     python  \\\n",
       "compilflag innerloop                                                           \n",
       "latest     1               0.00    3021.648    7678.031  140047.7   23923.38   \n",
       "           2           23307.94   30762.700   37684.740  141112.6   74581.94   \n",
       "           4           71944.96   87525.940  105754.600  140419.7  176235.80   \n",
       "           8          167957.90  200338.800  238679.200  140631.5  375423.90   \n",
       "\n",
       "language                   rust  \n",
       "compilflag innerloop             \n",
       "latest     1               0.00  \n",
       "           2           24470.73  \n",
       "           4           70273.99  \n",
       "           8          169228.30  "
      ]
     },
     "execution_count": 6,
     "metadata": {},
     "output_type": "execute_result"
    }
   ],
   "source": [
    "x=df[df.compilflag == 'latest']\n",
    "x= x.groupby(['language','compilflag','innerloop']).mean()\n",
    "data=x.unstack(level=0)\n",
    "data.value\n"
   ]
  }
 ],
 "metadata": {
  "kernelspec": {
   "display_name": "Python 3",
   "language": "python",
   "name": "python3"
  },
  "language_info": {
   "codemirror_mode": {
    "name": "ipython",
    "version": 3
   },
   "file_extension": ".py",
   "mimetype": "text/x-python",
   "name": "python",
   "nbconvert_exporter": "python",
   "pygments_lexer": "ipython3",
   "version": "3.6.3"
  }
 },
 "nbformat": 4,
 "nbformat_minor": 2
}
