{
 "cells": [
  {
   "cell_type": "code",
   "execution_count": 28,
   "metadata": {},
   "outputs": [],
   "source": [
    "import string\n",
    "import pandas as pd\n",
    "import numpy as np\n",
    "import plotly.plotly as py\n",
    "import plotly.graph_objs as go\n",
    "\n",
    "def boxplot(y_vals): \n",
    "    df = pd.DataFrame(y_vals)\n",
    "    df.head()\n",
    "    data = []\n",
    "    for col in df.columns:\n",
    "        data.append(  go.Box( y=df[col], name=col, showlegend=False ) )\n",
    "    data.append( go.Scatter( x = df.columns, y = df.mean(), mode='lines', name='mean' ) )\n",
    "    return py.iplot(data, filename='pandas-box-plot')\n",
    "\n",
    "l=[]\n",
    "files=!(ls  *power)\n",
    "languages= [x[x.index('_')+1:-9]  for x in files]\n",
    "l={y:[x for x in files if x.find(y) >0] for y in languages}\n",
    "measures={}\n",
    "keys = list(map(lambda x :  x[:-7]   if  (x.find('latest') >0 ) else x ,l ))\n",
    "i=0\n",
    "for x in l.keys() :\n",
    "    j = int(l[x][0].split('.')[-2])\n",
    "    j1={}\n",
    "    for file in l[x]:\n",
    "        data=!(cat $file)\n",
    "        j1[j]=[float(z) for z in data]\n",
    "        measures[keys[i]]=j1\n",
    "        j+=1\n",
    "    i+=1"
   ]
  },
  {
   "cell_type": "code",
   "execution_count": 29,
   "metadata": {},
   "outputs": [],
   "source": [
    "del measures['go_rec']\n",
    "del measures['rust_rec']\n",
    "del measures['gccgo_rec']"
   ]
  },
  {
   "cell_type": "markdown",
   "metadata": {},
   "source": [
    "# graph of c with 23 iterations "
   ]
  },
  {
   "cell_type": "code",
   "execution_count": 32,
   "metadata": {},
   "outputs": [
    {
     "name": "stdout",
     "output_type": "stream",
     "text": [
      "High five! You successfully sent some data to your account on plotly. View your plot in your browser at https://plot.ly/~chakibmed/0 or inside your plot.ly account where it is named 'pandas-box-plot'\n"
     ]
    },
    {
     "data": {
      "text/html": [
       "<iframe id=\"igraph\" scrolling=\"no\" style=\"border:none;\" seamless=\"seamless\" src=\"https://plot.ly/~chakibmed/0.embed\" height=\"525px\" width=\"100%\"></iframe>"
      ],
      "text/plain": [
       "<plotly.tools.PlotlyDisplay object>"
      ]
     },
     "execution_count": 32,
     "metadata": {},
     "output_type": "execute_result"
    }
   ],
   "source": [
    "y_vals = {x : measures[x][30] for x in measures.keys()} \n",
    "boxplot(y_vals)"
   ]
  },
  {
   "cell_type": "code",
   "execution_count": 31,
   "metadata": {},
   "outputs": [],
   "source": [
    "# graph of  24 iterations "
   ]
  },
  {
   "cell_type": "code",
   "execution_count": null,
   "metadata": {},
   "outputs": [],
   "source": []
  }
 ],
 "metadata": {
  "kernelspec": {
   "display_name": "Python 3",
   "language": "python",
   "name": "python3"
  },
  "language_info": {
   "codemirror_mode": {
    "name": "ipython",
    "version": 3
   },
   "file_extension": ".py",
   "mimetype": "text/x-python",
   "name": "python",
   "nbconvert_exporter": "python",
   "pygments_lexer": "ipython3",
   "version": "3.6.3"
  }
 },
 "nbformat": 4,
 "nbformat_minor": 2
}
