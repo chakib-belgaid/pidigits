{
 "cells": [
  {
   "cell_type": "code",
   "execution_count": 1,
   "metadata": {},
   "outputs": [],
   "source": [
    "import pandas as pd\n",
    "import numpy as np\n",
    "import plotly.plotly as py\n",
    "import cufflinks as cf \n",
    "import matplotlib.pyplot as plt\n",
    "from pivottablejs import pivot_ui\n",
    "\n",
    "class Index() :\n",
    "    ALGORITHME = 0\n",
    "    LANGUAGE = 1\n",
    "    COMPILEFLAG = 2\n",
    "    PARAM = 3\n",
    "    INNERLOOP = 4 \n",
    "#df = pd.DataFrame()\n",
    "columns=['language','compilflag','param','innerloop','value']\n",
    "\n",
    "l= []\n",
    "files= !(ls *power) # file format : 'algo>.<language>.<compilflag>.<param>.<innerloop>.power\n",
    "i = 0 \n",
    "for file in files : \n",
    "    f=!(cat $file)\n",
    "    infos = file.split('.')\n",
    "\n",
    "    infos[Index.INNERLOOP] = int(infos[Index.INNERLOOP])\n",
    "    for line in f :\n",
    "        row = infos[1:-1]\n",
    "        \n",
    "          \n",
    "        row.append(float(line))\n",
    "        l.append(tuple(row))\n",
    "    \n",
    "df = pd.DataFrame(l,columns=columns)"
   ]
  },
  {
   "cell_type": "code",
   "execution_count": 2,
   "metadata": {},
   "outputs": [
    {
     "data": {
      "text/html": [
       "<iframe id=\"igraph\" scrolling=\"no\" style=\"border:none;\" seamless=\"seamless\" src=\"https://plot.ly/~chakibmed/5.embed\" height=\"525px\" width=\"100%\"></iframe>"
      ],
      "text/plain": [
       "<plotly.tools.PlotlyDisplay object>"
      ]
     },
     "execution_count": 2,
     "metadata": {},
     "output_type": "execute_result"
    }
   ],
   "source": [
    "x=df[df.compilflag == 'latest']\n",
    "x= x.groupby(['language','compilflag','innerloop']).mean()\n",
    "data=x.unstack(level=0)\n",
    "data=data.value\n",
    "py.iplot([{\n",
    "    'x':data.index.levels[1],\n",
    "    'y':data[col] ,\n",
    "    'name':col\n",
    "    } for col in data.columns ],filename='simple-test')"
   ]
  },
  {
   "cell_type": "code",
   "execution_count": 3,
   "metadata": {},
   "outputs": [
    {
     "data": {
      "text/html": [
       "<div>\n",
       "<style scoped>\n",
       "    .dataframe tbody tr th:only-of-type {\n",
       "        vertical-align: middle;\n",
       "    }\n",
       "\n",
       "    .dataframe tbody tr th {\n",
       "        vertical-align: top;\n",
       "    }\n",
       "\n",
       "    .dataframe thead th {\n",
       "        text-align: right;\n",
       "    }\n",
       "</style>\n",
       "<table border=\"1\" class=\"dataframe\">\n",
       "  <thead>\n",
       "    <tr style=\"text-align: right;\">\n",
       "      <th></th>\n",
       "      <th></th>\n",
       "      <th></th>\n",
       "      <th>value</th>\n",
       "    </tr>\n",
       "    <tr>\n",
       "      <th>language</th>\n",
       "      <th>compilflag</th>\n",
       "      <th>innerloop</th>\n",
       "      <th></th>\n",
       "    </tr>\n",
       "  </thead>\n",
       "  <tbody>\n",
       "    <tr>\n",
       "      <th rowspan=\"4\" valign=\"top\">java</th>\n",
       "      <th rowspan=\"4\" valign=\"top\">latest</th>\n",
       "      <th>1</th>\n",
       "      <td>139955.7</td>\n",
       "    </tr>\n",
       "    <tr>\n",
       "      <th>2</th>\n",
       "      <td>141161.6</td>\n",
       "    </tr>\n",
       "    <tr>\n",
       "      <th>4</th>\n",
       "      <td>141439.8</td>\n",
       "    </tr>\n",
       "    <tr>\n",
       "      <th>8</th>\n",
       "      <td>139230.2</td>\n",
       "    </tr>\n",
       "  </tbody>\n",
       "</table>\n",
       "</div>"
      ],
      "text/plain": [
       "                                  value\n",
       "language compilflag innerloop          \n",
       "java     latest     1          139955.7\n",
       "                    2          141161.6\n",
       "                    4          141439.8\n",
       "                    8          139230.2"
      ]
     },
     "execution_count": 3,
     "metadata": {},
     "output_type": "execute_result"
    }
   ],
   "source": [
    "x=df[df.language == 'java']\n",
    "x= x.groupby(['language','compilflag','innerloop']).mean()\n",
    "x"
   ]
  }
 ],
 "metadata": {
  "kernelspec": {
   "display_name": "Python 3",
   "language": "python",
   "name": "python3"
  },
  "language_info": {
   "codemirror_mode": {
    "name": "ipython",
    "version": 3
   },
   "file_extension": ".py",
   "mimetype": "text/x-python",
   "name": "python",
   "nbconvert_exporter": "python",
   "pygments_lexer": "ipython3",
   "version": "3.6.3"
  }
 },
 "nbformat": 4,
 "nbformat_minor": 2
}
